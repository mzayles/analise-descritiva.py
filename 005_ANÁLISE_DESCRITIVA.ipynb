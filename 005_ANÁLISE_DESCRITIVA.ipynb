{
  "nbformat": 4,
  "nbformat_minor": 0,
  "metadata": {
    "colab": {
      "provenance": []
    },
    "kernelspec": {
      "name": "python3",
      "display_name": "Python 3"
    },
    "language_info": {
      "name": "python"
    }
  },
  "cells": [
    {
      "cell_type": "markdown",
      "source": [
        "# **ANÁLISE DESCRITIVA**"
      ],
      "metadata": {
        "id": "ZdTkCfcozlkb"
      }
    },
    {
      "cell_type": "code",
      "source": [
        "\"\"\"\n",
        "    Perguntas de negócio:\n",
        "    - Margem de lucro\n",
        "    - Prejuízos\n",
        "    - Recomendações\n",
        "    - Padrão nos dados dos países\n",
        "\n",
        "    Mensurar o passado, resumir os dados\n",
        "\"\"\""
      ],
      "metadata": {
        "id": "H64Yzd1I5RBn"
      },
      "execution_count": null,
      "outputs": []
    },
    {
      "cell_type": "code",
      "source": [
        "import pandas as pd\n",
        "import numpy as np"
      ],
      "metadata": {
        "id": "osyU0RE92QYu"
      },
      "execution_count": null,
      "outputs": []
    },
    {
      "cell_type": "code",
      "source": [
        "# 700 linhas, 13 colunas\n",
        "df = pd.read_excel('report-consolidado.xlsx')"
      ],
      "metadata": {
        "id": "stwKQ_6L2w7M"
      },
      "execution_count": null,
      "outputs": []
    },
    {
      "cell_type": "code",
      "source": [
        "# quantitativas e qualitativas > ex. idade e faixa etária\n",
        "df.head(100)"
      ],
      "metadata": {
        "id": "5I1Woe5HAyo5"
      },
      "execution_count": null,
      "outputs": []
    },
    {
      "cell_type": "code",
      "source": [
        "# conversão de Qtde de Unidades Vendidas, Preço Unitário, Data\n",
        "df.info()"
      ],
      "metadata": {
        "id": "amQctKED3BOz"
      },
      "execution_count": null,
      "outputs": []
    },
    {
      "cell_type": "code",
      "source": [
        "df.columns\n",
        "colunas = ['segmento', 'pais', 'produto', 'qtd_unidades_vendidas',\n",
        "       'preco_unitario', 'valor_total', 'desconto', 'valor_total_c/_desconto',\n",
        "       'custo_total', 'lucro', 'data', 'mes', 'ano']\n",
        "\n",
        "df.columns = colunas\n",
        "df.columns"
      ],
      "metadata": {
        "id": "shIa79P09C0h"
      },
      "execution_count": null,
      "outputs": []
    },
    {
      "cell_type": "code",
      "source": [
        "df.info()"
      ],
      "metadata": {
        "id": "s9FdO7dR9w9X"
      },
      "execution_count": null,
      "outputs": []
    },
    {
      "cell_type": "code",
      "source": [
        "df['qtd_unidades_vendidas']\n",
        "df['preco_unitario']"
      ],
      "metadata": {
        "id": "Az6wBHVm-XGu"
      },
      "execution_count": null,
      "outputs": []
    },
    {
      "cell_type": "code",
      "source": [
        "# conversão de qtd_unidades_vendidas e preco_unitario\n",
        "df = df.astype(\n",
        "    {\n",
        "        'qtd_unidades_vendidas': np.int64,\n",
        "        'preco_unitario': np.float64\n",
        "    }\n",
        ")"
      ],
      "metadata": {
        "id": "MvOo0N2d98P_"
      },
      "execution_count": null,
      "outputs": []
    },
    {
      "cell_type": "code",
      "source": [
        "df.info()"
      ],
      "metadata": {
        "id": "vUgy4zML-ywG"
      },
      "execution_count": null,
      "outputs": []
    },
    {
      "cell_type": "code",
      "source": [
        "# conversão de data\n",
        "df.data\n",
        "\n",
        "df['data'] = pd.to_datetime(df['data'], format='%d/%m/%Y')\n",
        "df.data"
      ],
      "metadata": {
        "id": "yZoADLuL_Sv9"
      },
      "execution_count": null,
      "outputs": []
    },
    {
      "cell_type": "code",
      "source": [
        "# não existe valores duplicados\n",
        "df.duplicated().sum()"
      ],
      "metadata": {
        "id": "fHrW4i50ATBD"
      },
      "execution_count": null,
      "outputs": []
    },
    {
      "cell_type": "code",
      "source": [
        "# não existe valores nulos\n",
        "df.isnull().sum()"
      ],
      "metadata": {
        "id": "MXm2b7bAAeiy"
      },
      "execution_count": null,
      "outputs": []
    },
    {
      "cell_type": "code",
      "source": [
        "# ordenar colunas\n",
        "df.sort_values(['país', 'produto', 'data'], inplace=True)"
      ],
      "metadata": {
        "id": "sNuIoucUBO4h"
      },
      "execution_count": null,
      "outputs": []
    },
    {
      "cell_type": "code",
      "source": [
        "# identificar problemas > lucro negativo\n",
        "# coluna = variável (valor de cada coluna)\n",
        "\n",
        "df.describe().round(2)"
      ],
      "metadata": {
        "id": "-duC98q-DVEu"
      },
      "execution_count": null,
      "outputs": []
    },
    {
      "cell_type": "code",
      "source": [
        "df.describe(include=object)"
      ],
      "metadata": {
        "id": "hWeQ6e92B0hY"
      },
      "execution_count": null,
      "outputs": []
    },
    {
      "cell_type": "code",
      "source": [
        "# verificar o menor lucro\n",
        "df.sort_values(['lucro'])"
      ],
      "metadata": {
        "id": "_gm-S_WyR6YU"
      },
      "execution_count": null,
      "outputs": []
    },
    {
      "cell_type": "code",
      "source": [
        "# verificar o maior lucro\n",
        "df.sort_values(['lucro'], ascending=False)"
      ],
      "metadata": {
        "id": "5AhADgSUSI0j"
      },
      "execution_count": null,
      "outputs": []
    },
    {
      "cell_type": "code",
      "source": [
        "df.info()"
      ],
      "metadata": {
        "id": "Csu_SDalUSPA"
      },
      "execution_count": null,
      "outputs": []
    },
    {
      "cell_type": "markdown",
      "source": [
        "### **ANÁLISE DE MARGEM DE LUCRO**"
      ],
      "metadata": {
        "id": "BCQPLJOVTyww"
      }
    },
    {
      "cell_type": "code",
      "source": [
        "# agrupando dados por segmento\n",
        "# agrupar as variáveis quantitativas pelas variáveis qualitativas\n",
        "# agrupa as informações do meu segmento pelas variáveis das colunas\n",
        "\n",
        "# maior e menor lucro por segmentos\n",
        "colunas = ['valor_total_c/_desconto', 'custo_total', 'lucro']\n",
        "df_segmento = df.groupby('segmento')[colunas].sum().round(2)\n",
        "\n",
        "df_segmento['margem_lucro'] = round((df_segmento['lucro'] / df_segmento['valor_total_c/_desconto']) * 100, 2)\n",
        "df_segmento"
      ],
      "metadata": {
        "id": "lREsSgesTxQQ"
      },
      "execution_count": null,
      "outputs": []
    },
    {
      "cell_type": "code",
      "source": [
        "import matplotlib.pyplot as plt # ferramenta para gráficos\n",
        "\n",
        "plt.figure(figsize=(10, 5))\n",
        "\n",
        "df_segmento['valor_total_c/_desconto'].plot(kind='bar', color='pink')\n",
        "\n",
        "plt.title('Faturamento por segmento')\n",
        "plt.ylabel('Faturamento')\n",
        "plt.xlabel('Segmentos')\n",
        "plt.xticks(rotation=0);"
      ],
      "metadata": {
        "id": "U9ySmE8QHyYa"
      },
      "execution_count": null,
      "outputs": []
    },
    {
      "cell_type": "code",
      "source": [
        "# maior e menor lucro por país\n",
        "\n",
        "colunas = ['valor_total_c/_desconto', 'custo_total', 'lucro']\n",
        "df_pais = df.groupby('pais')[colunas].sum().round(2)\n",
        "\n",
        "df_pais['margem_lucro'] = round((df_pais['lucro'] / df_pais['valor_total_c/_desconto']) * 100, 2)\n",
        "df_pais"
      ],
      "metadata": {
        "id": "xuRXKcxAXdSC"
      },
      "execution_count": null,
      "outputs": []
    },
    {
      "cell_type": "code",
      "source": [
        "# maior e menor lucro por produto\n",
        "\n",
        "colunas = ['valor_total_c/_desconto', 'custo_total', 'lucro']\n",
        "df_produto = df.groupby('produto')[colunas].sum().round(2)\n",
        "\n",
        "df_produto['margem_lucro'] = round((df_produto['lucro'] / df_produto['valor_total_c/_desconto']) * 100, 2)\n",
        "df_produto"
      ],
      "metadata": {
        "id": "JrarA9NPYUAH"
      },
      "execution_count": null,
      "outputs": []
    },
    {
      "cell_type": "code",
      "source": [
        "# agrupando dados por pais, segmento e produto\n",
        "\n",
        "colunas = ['valor_total_c/_desconto', 'custo_total', 'lucro']\n",
        "\n",
        "df_geral = df.groupby(['pais', 'segmento', 'produto'])[colunas].sum().round(2)\n",
        "df_geral = df.groupby(['produto', 'segmento'])[colunas].sum().round(2) # prejuízos\n",
        "\n",
        "df_geral"
      ],
      "metadata": {
        "id": "GMVf84dUZgWO"
      },
      "execution_count": null,
      "outputs": []
    },
    {
      "cell_type": "code",
      "source": [
        "# cálculos de soma, média e mínimo em um agrupamento (funções de agregração)\n",
        "\n",
        "df.groupby('segmento').agg(\n",
        "    {\n",
        "        'valor_total_c/_desconto': ['count', 'sum', 'mean', 'min', 'max'],\n",
        "        'custo_total': 'mean',\n",
        "        'lucro': ['min', 'max']\n",
        "    }\n",
        ").round(2)"
      ],
      "metadata": {
        "id": "5kiUHzko84Gt"
      },
      "execution_count": null,
      "outputs": []
    },
    {
      "cell_type": "markdown",
      "source": [
        "### **FILTRANDO DADOS COM O MÉTODO QUERY DO DATAFRAME**"
      ],
      "metadata": {
        "id": "jLqcs1adBMgF"
      }
    },
    {
      "cell_type": "code",
      "source": [
        "# método query\n",
        "\n",
        "df_prejuizo = df.query('lucro < 0')\n",
        "df_prejuizo"
      ],
      "metadata": {
        "id": "bBRYIZHQBL_1"
      },
      "execution_count": null,
      "outputs": []
    },
    {
      "cell_type": "code",
      "source": [
        "# prejuízos por cada país\n",
        "df_prejuizo.groupby('pais')['lucro'].sum().round(2)"
      ],
      "metadata": {
        "id": "tFQD2Pu2CI7z"
      },
      "execution_count": null,
      "outputs": []
    },
    {
      "cell_type": "code",
      "source": [
        "df_prejuizo.groupby('segmento')['lucro'].sum().round(2)"
      ],
      "metadata": {
        "id": "Zv22hwjkDbJ5"
      },
      "execution_count": null,
      "outputs": []
    },
    {
      "cell_type": "code",
      "source": [
        "# gráfico de lucros negativos\n",
        "\n",
        "df_grafico = df_prejuizo.groupby('produto')['lucro'].sum().round(2)\n",
        "df_grafico.plot(kind='bar', color='pink')"
      ],
      "metadata": {
        "id": "Tm42fiN2Dcch"
      },
      "execution_count": null,
      "outputs": []
    }
  ]
}